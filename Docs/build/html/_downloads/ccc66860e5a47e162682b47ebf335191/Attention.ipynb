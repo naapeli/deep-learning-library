{
  "cells": [
    {
      "cell_type": "markdown",
      "metadata": {},
      "source": [
        "\n# Deep learning with Attention\n\nThis script implements a model to predict a dummy dataset using MultiHeadAttention. The model \nhas a similar structure to modern large language models, but with way less parameters.\n"
      ]
    },
    {
      "cell_type": "code",
      "execution_count": null,
      "metadata": {
        "collapsed": false
      },
      "outputs": [],
      "source": [
        "import torch\nimport matplotlib.pyplot as plt\n\nfrom DLL.DeepLearning.Model import Model\nfrom DLL.DeepLearning.Layers import MultiHeadAttention, Dense, Flatten, Reshape, LayerList\nfrom DLL.DeepLearning.Layers.Regularisation import LayerNorm\nfrom DLL.DeepLearning.Layers.Activations import ReLU\nfrom DLL.DeepLearning.Optimisers import ADAM\nfrom DLL.DeepLearning.Losses import MSE\nfrom DLL.Data.Preprocessing import data_split\nfrom DLL.Data.Metrics import mean_squared_error\n\n\nn = 1000\nseq_len = 10\n\nX = 10 * torch.rand((n, seq_len))\ny = (X ** 2).sum(dim=1)\n\nX_train, y_train, X_val, y_val, X_test, y_test = data_split(X, y, 0.6, 0.2)\n\nblock = LayerList(\n    MultiHeadAttention((11, 9), n_heads=3, dropout=0.5),\n    LayerNorm(),\n    Dense((11, 9)),\n    ReLU()\n)\n\nmodel = Model((seq_len,))\nmodel.add(Dense(99, activation=ReLU()))\nmodel.add(Reshape((11, 9)))\nmodel.add(block.clone())\nmodel.add(block.clone())\nmodel.add(block.clone())\nmodel.add(Flatten())\nmodel.add(Dense(tuple()))\nmodel.compile(ADAM(), MSE(), metrics=[\"loss\", \"val_loss\"])\nmodel.summary()\n\nhistory = model.fit(X_train, y_train, val_data=(X_val, y_val), epochs=100, callback_frequency=1, batch_size=64, verbose=True)\ny_pred = model.predict(X_test)\nprint(f\"Test mean squared error: {mean_squared_error(y_pred, y_test)}\")\n\nplt.figure(figsize=(8, 8))\nplt.semilogy(history[\"loss\"], label=\"loss\")\nplt.semilogy(history[\"val_loss\"], label=\"validation loss\")\nplt.legend()\nplt.show()"
      ]
    }
  ],
  "metadata": {
    "kernelspec": {
      "display_name": "Python 3",
      "language": "python",
      "name": "python3"
    },
    "language_info": {
      "codemirror_mode": {
        "name": "ipython",
        "version": 3
      },
      "file_extension": ".py",
      "mimetype": "text/x-python",
      "name": "python",
      "nbconvert_exporter": "python",
      "pygments_lexer": "ipython3",
      "version": "3.11.9"
    }
  },
  "nbformat": 4,
  "nbformat_minor": 0
}