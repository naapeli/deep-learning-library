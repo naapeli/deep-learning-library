{
  "cells": [
    {
      "cell_type": "markdown",
      "metadata": {},
      "source": [
        "\n# Naive Bayes Classifiers on Iris and Synthetic Datasets\n\nThis script demonstrates the use of different Naive Bayes classifiers (Gaussian, Bernoulli, and \nMultinomial) on multiple datasets: the Iris dataset and a synthetic dataset. The classifiers are \nevaluated based on their accuracy in predicting the target values.\n"
      ]
    },
    {
      "cell_type": "code",
      "execution_count": null,
      "metadata": {
        "collapsed": false
      },
      "outputs": [],
      "source": [
        "import torch\nfrom sklearn import datasets\n\nfrom DLL.Data.Preprocessing import data_split\nfrom DLL.Data.Metrics import accuracy\nfrom DLL.MachineLearning.SupervisedLearning.NaiveBayes import GaussianNaiveBayes, BernoulliNaiveBayes, MultinomialNaiveBayes\n\n\niris = datasets.load_iris()\nX = torch.tensor(iris.data, dtype=torch.float32)\ny = torch.tensor(iris.target, dtype=torch.float32)\n# X = X[y != 2]\n# y = y[y != 2]\n\nX_train, y_train, X_test, y_test, _, _ = data_split(X, y, train_split=0.8, validation_split=0.2)\n\nmodel = GaussianNaiveBayes()\nmodel.fit(X_train, y_train)\npredictions = model.predict(X_test)\n# print(model.predict_proba(X_test))\nprint(accuracy(predictions, y_test))\n\n\ny_bernoulli = (y != 0).to(torch.int32)\nX_bernoulli = (X > torch.mean(X, dim=0)).to(torch.int32)\nX_train, y_train, X_test, y_test, _, _ = data_split(X_bernoulli, y_bernoulli, train_split=0.8, validation_split=0.2)\n\nmodel = BernoulliNaiveBayes()\nmodel.fit(X_train, y_train)\npredictions = model.predict(X_test)\n# print(model.predict_proba(X_test))\nprint(accuracy(predictions, y_test))\n\n\nn_samples = 2000\nn_features = 10\nX_multinomial = torch.poisson(torch.ones(size=(n_samples, n_features)) * 3)\ny_multinomial = torch.bitwise_or(torch.bitwise_and(X_multinomial[:, 0] >= 5, X_multinomial[:, 1] < 3), (X_multinomial[:, 2] >= 3)).to(torch.float32)\nX_train, y_train, X_test, y_test, _, _ = data_split(X_multinomial, y_multinomial, train_split=0.8, validation_split=0.2)\n\nmodel = MultinomialNaiveBayes()\nmodel.fit(X_train, y_train)\npredictions = model.predict(X_test)\n# print(model.predict_proba(X_test))\nprint(accuracy(predictions, y_test))"
      ]
    }
  ],
  "metadata": {
    "kernelspec": {
      "display_name": "Python 3",
      "language": "python",
      "name": "python3"
    },
    "language_info": {
      "codemirror_mode": {
        "name": "ipython",
        "version": 3
      },
      "file_extension": ".py",
      "mimetype": "text/x-python",
      "name": "python",
      "nbconvert_exporter": "python",
      "pygments_lexer": "ipython3",
      "version": "3.11.9"
    }
  },
  "nbformat": 4,
  "nbformat_minor": 0
}