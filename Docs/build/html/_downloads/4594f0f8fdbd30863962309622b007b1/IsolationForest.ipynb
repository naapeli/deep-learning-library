{
  "cells": [
    {
      "cell_type": "markdown",
      "metadata": {},
      "source": [
        "\n# Outlier detection using isolation forest\n\nThis script samples data points from a multivariate normal distribution, adds an outlier \nand tries to detect it using `DLL.MachineLearning.UnsupervisedLearning.OutlierDetection.IsolationForest`.\n"
      ]
    },
    {
      "cell_type": "code",
      "execution_count": null,
      "metadata": {
        "collapsed": false
      },
      "outputs": [],
      "source": [
        "import torch\nimport numpy as np\nimport matplotlib.pyplot as plt\n\nfrom DLL.MachineLearning.UnsupervisedLearning.OutlierDetection import IsolationForest\n\n\nmean = [0, 0]\ncov = [[1, 0], [0, 1]]\nn = 2000\nX1, X2 = np.random.multivariate_normal(mean, cov, n).T\nX1[0] = 5\nX2[0] = 5\nX = torch.from_numpy(np.array([X1, X2]).T)\n\n\nmodel = IsolationForest(n_trees=25, threshold=6)\npredictions = model.fit_predict(X)\nprint(sorted([round(score, 2) for score in model.fit_predict(X, return_scores=True).tolist()]))\n\nplt.scatter(X[:, 0][predictions], X[:, 1][predictions], label=\"Outliers\")\nplt.scatter(X[:, 0][~predictions], X[:, 1][~predictions], label=\"Inliers\")\nplt.legend()\nplt.show()"
      ]
    }
  ],
  "metadata": {
    "kernelspec": {
      "display_name": "Python 3",
      "language": "python",
      "name": "python3"
    },
    "language_info": {
      "codemirror_mode": {
        "name": "ipython",
        "version": 3
      },
      "file_extension": ".py",
      "mimetype": "text/x-python",
      "name": "python",
      "nbconvert_exporter": "python",
      "pygments_lexer": "ipython3",
      "version": "3.11.9"
    }
  },
  "nbformat": 4,
  "nbformat_minor": 0
}