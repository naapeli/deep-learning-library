{
  "cells": [
    {
      "cell_type": "markdown",
      "metadata": {},
      "source": [
        "\n# Classification with discriminant analysis\n\nThis script classifies synthetic data using linear and quadratic disrciminant analysis. \nIn the visualisations, one is clearly able to see the difference  between the algorithms \nusing the decision boundaries.\n"
      ]
    },
    {
      "cell_type": "code",
      "execution_count": null,
      "metadata": {
        "collapsed": false
      },
      "outputs": [],
      "source": [
        "import torch\nimport matplotlib.pyplot as plt\nfrom sklearn import datasets\nfrom sklearn.discriminant_analysis import LinearDiscriminantAnalysis, QuadraticDiscriminantAnalysis\n\nfrom DLL.MachineLearning.UnsupervisedLearning.DimensionalityReduction import LDA, QDA\nfrom DLL.Data.Preprocessing import data_split\nfrom DLL.Data.Metrics import accuracy\n\n\nX, y = datasets.make_blobs(n_samples=1000, n_features=2, cluster_std=2, centers=4, random_state=3)\n\nX = torch.from_numpy(X)\ny = torch.from_numpy(y)\nX_train, y_train, X_test, y_test, _, _ = data_split(X, y)\n\nmodel1 = LDA()\nmodel1.fit(X_train, y_train)\npredictions1 = model1.predict(X_test)\nprint(f\"DLL LDA accuracy: {round(accuracy(predictions1, y_test), 3)}\")\nn = 100\nx_min, X_max = X[:, 0].min(), X[:, 0].max()\ny_min, y_max = X[:, 1].min(), X[:, 1].max()\nx_grid = torch.linspace(x_min, X_max, n)\ny_grid = torch.linspace(y_min, y_max, n)\nXv, Yv = torch.meshgrid(x_grid, y_grid, indexing=\"ij\")\nX_grid = torch.stack((Xv.flatten(), Yv.flatten()), dim=1).to(X.dtype)\ngrid_predictions1 = model1.predict(X_grid).reshape((n, n))\n\nmodel2 = LinearDiscriminantAnalysis()\nmodel2.fit(X_train, y_train)\npredictions2 = model2.predict(X_test)\nprint(f\"SKlearn LDA accuracy: {round(accuracy(torch.from_numpy(predictions2), y_test), 3)}\")\ngrid_predictions2 = model2.predict(X_grid).reshape((n, n))\n\nmodel3 = QDA()\nmodel3.fit(X_train, y_train)\npredictions3 = model3.predict(X_test)\nprint(f\"DLL QDA accuracy: {round(accuracy(predictions3, y_test), 3)}\")\ngrid_predictions3 = model3.predict(X_grid).reshape((n, n))\n\nmodel4 = QuadraticDiscriminantAnalysis()\nmodel4.fit(X_train, y_train)\npredictions4 = model4.predict(X_test)\nprint(f\"SKlearn LDA accuracy: {round(accuracy(torch.from_numpy(predictions4), y_test), 3)}\")\ngrid_predictions4 = model4.predict(X_grid).reshape((n, n))\n\nfig, axes = plt.subplots(2, 2, figsize=(8, 8))\naxes = axes.ravel()\naxes[0].contourf(Xv.numpy(), Yv.numpy(), grid_predictions1.numpy(), alpha=0.5)\naxes[0].scatter(X_test[:, 0], X_test[:, 1], c=y_test, s=5)\naxes[0].scatter([x[0] for x in model1.class_means], [x[1] for x in model1.class_means], c=\"red\")\naxes[0].set_title(\"LDA DLL\")\n\naxes[1].contourf(Xv.numpy(), Yv.numpy(), grid_predictions2, alpha=0.5)\naxes[1].scatter(X_test[:, 0], X_test[:, 1], c=y_test, s=5)\naxes[1].scatter([x[0] for x in model2.means_], [x[1] for x in model2.means_], c=\"red\")\naxes[1].set_title(\"LDA sklearn\")\n\naxes[2].contourf(Xv.numpy(), Yv.numpy(), grid_predictions3.numpy(), alpha=0.5)\naxes[2].scatter(X_test[:, 0], X_test[:, 1], c=y_test, s=5)\naxes[2].scatter([x[0] for x in model3.class_means], [x[1] for x in model3.class_means], c=\"red\")\naxes[2].set_title(\"QDA DLL\")\n\naxes[3].contourf(Xv.numpy(), Yv.numpy(), grid_predictions4, alpha=0.5)\naxes[3].scatter(X_test[:, 0], X_test[:, 1], c=y_test, s=5)\naxes[3].scatter([x[0] for x in model4.means_], [x[1] for x in model4.means_], c=\"red\")\naxes[3].set_title(\"QDA sklearn\")\nplt.show()"
      ]
    }
  ],
  "metadata": {
    "kernelspec": {
      "display_name": "Python 3",
      "language": "python",
      "name": "python3"
    },
    "language_info": {
      "codemirror_mode": {
        "name": "ipython",
        "version": 3
      },
      "file_extension": ".py",
      "mimetype": "text/x-python",
      "name": "python",
      "nbconvert_exporter": "python",
      "pygments_lexer": "ipython3",
      "version": "3.11.9"
    }
  },
  "nbformat": 4,
  "nbformat_minor": 0
}