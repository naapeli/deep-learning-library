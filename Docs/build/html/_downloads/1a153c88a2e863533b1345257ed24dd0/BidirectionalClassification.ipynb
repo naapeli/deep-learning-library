{
  "cells": [
    {
      "cell_type": "markdown",
      "metadata": {},
      "source": [
        "\n# Bidirectional recurrent layers\n\nThis script implements a model to classify the iris dataset. This model uses LSTM and \nRNN layers with a Bidirectional wrapper for the predictions.\n"
      ]
    },
    {
      "cell_type": "code",
      "execution_count": null,
      "metadata": {
        "collapsed": false
      },
      "outputs": [],
      "source": [
        "from DLL.DeepLearning.Model import Model\nfrom DLL.DeepLearning.Layers.Activations import ReLU, SoftMax\nfrom DLL.DeepLearning.Layers import RNN, LSTM, Bidirectional\nfrom DLL.DeepLearning.Losses import CCE\nfrom DLL.DeepLearning.Optimisers import ADAM\nfrom DLL.Data.Preprocessing import data_split, OneHotEncoder, MinMaxScaler\nfrom DLL.Data.Metrics import accuracy\n\nimport torch\nimport matplotlib.pyplot as plt\nfrom sklearn import datasets\n\n\niris = datasets.load_iris()\n\nencoder = OneHotEncoder()\nscaler = MinMaxScaler()\nx = torch.tensor(iris.data, dtype=torch.float32)\nx = scaler.fit_transform(x).unsqueeze(-1)\ny = encoder.fit_encode(torch.tensor(iris.target, dtype=torch.float32))\nx_train, y_train, x_val, y_val, x_test, y_test = data_split(x, y, train_split=0.6, validation_split=0.2)\nprint(x.shape, y.shape)\n\ndevice = torch.device(\"cuda\") if torch.cuda.is_available() else torch.device(\"cpu\")\nx_train = x_train.to(device=device)\ny_train = y_train.to(device=device)\nx_val = x_val.to(device=device)\ny_val = y_val.to(device=device)\nx_test = x_test.to(device=device)\ny_test = y_test.to(device=device)\n\nmodel = Model((4, 1), data_type=torch.float32, device=device)\nmodel.add(Bidirectional(LSTM((4, 20), 10, return_last=False, activation=ReLU())))\nmodel.add(RNN((3,), 10, return_last=True, activation=SoftMax()))\nmodel.compile(optimiser=ADAM(), loss=CCE(), metrics=[\"loss\", \"val_loss\", \"val_accuracy\", \"accuracy\"])\nmodel.summary()\n\n_, ax = plt.subplots(figsize=(8, 8))\nscatter = ax.scatter(iris.data[:, 0], iris.data[:, 1], c=iris.target)\nax.set(xlabel=iris.feature_names[0], ylabel=iris.feature_names[1])\n_ = ax.legend(\n    scatter.legend_elements()[0], iris.target_names, loc=\"lower right\", title=\"Classes\"\n)\n\nerrors = model.fit(x_train, y_train, val_data=(x_val, y_val), epochs=200, batch_size=32, verbose=True)\ntest_predictions = model.predict(x_test)\nprint(f\"Test accuracy: {accuracy(test_predictions, y_test)}\")\n\nplt.figure(figsize=(8, 8))\nplt.plot(errors[\"loss\"], label=\"loss\")\nplt.plot(errors[\"val_loss\"], label=\"val_loss\")\nplt.legend()\nplt.xlabel(\"Epochs\")\nplt.ylabel(\"Categorical cross entropy\")\n\nplt.figure(figsize=(8, 8))\nplt.plot(errors[\"accuracy\"], label=\"accuracy\")\nplt.plot(errors[\"val_accuracy\"], label=\"val_accuracy\")\nplt.legend()\nplt.xlabel(\"Epochs\")\nplt.ylabel(\"Accuracy\")\nplt.show()"
      ]
    }
  ],
  "metadata": {
    "kernelspec": {
      "display_name": "Python 3",
      "language": "python",
      "name": "python3"
    },
    "language_info": {
      "codemirror_mode": {
        "name": "ipython",
        "version": 3
      },
      "file_extension": ".py",
      "mimetype": "text/x-python",
      "name": "python",
      "nbconvert_exporter": "python",
      "pygments_lexer": "ipython3",
      "version": "3.11.9"
    }
  },
  "nbformat": 4,
  "nbformat_minor": 0
}