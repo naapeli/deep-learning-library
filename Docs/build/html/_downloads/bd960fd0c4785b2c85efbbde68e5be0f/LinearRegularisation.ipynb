{
  "cells": [
    {
      "cell_type": "markdown",
      "metadata": {},
      "source": [
        "\n# Regularization Path for Ridge, LASSO, and ElasticNet Regression\n\nThis script demonstrates the effect of L1 (LASSO), L2 (Ridge), and \nElasticNet regularization on regression coefficients. It generates \na 3D synthetic dataset and fits different models with varying alpha \n(regularization strength), tracking the weight paths.\n"
      ]
    },
    {
      "cell_type": "code",
      "execution_count": null,
      "metadata": {
        "collapsed": false
      },
      "outputs": [],
      "source": [
        "import torch\nimport matplotlib.pyplot as plt\nfrom math import log10\n\nfrom DLL.MachineLearning.SupervisedLearning.LinearModels import LASSORegression, RidgeRegression, ElasticNetRegression\nfrom DLL.DeepLearning.Optimisers import ADAM\n\n\nn = 10\nx1 = torch.linspace(0, 1, n)\nx2 = torch.linspace(0, 1, n)\nx3 = torch.linspace(0, 1, n)\nXX1, XX2, XX3 = torch.meshgrid(x1, x2, x3, indexing=\"xy\")\nX = torch.stack((XX1.flatten(), XX2.flatten(), XX3.flatten()), dim=1)\ny = 2 * XX1.flatten() - 5 * XX2.flatten() + 1 * XX3.flatten() + 0.1 * torch.normal(0, 1, size=XX1.flatten().size())\n\nweights = []\nalphas = torch.logspace(log10(1e-1), log10(1e5), 50).tolist()\nfor alpha in alphas:\n    model = RidgeRegression(alpha=alpha)\n    model.fit(X, y)\n    weights.append(model.beta.tolist())\n\nweights = torch.tensor(weights)\n\nfig, axes = plt.subplots(1, 3)\n\nfor row in weights.T:\n    axes[0].semilogx(alphas, row)\naxes[0].set_title(\"Ridge regression\")\naxes[0].set_xlabel(\"Alpha\")\naxes[0].set_ylabel(\"Weights\")\n\nweights_lasso = []\nweight_elasticnet = []\nfor alpha in alphas:\n    model = LASSORegression(alpha=alpha)\n    model.fit(X, y, epochs=50)\n    weights_lasso.append([model.weights.tolist()])\n    model = ElasticNetRegression(alpha=alpha, l1_ratio=0.5)\n    model.fit(X, y, epochs=50)\n    weight_elasticnet.append([model.weights.tolist()])\n\nweights_lasso = torch.tensor(weights_lasso).squeeze()\nweight_elasticnet = torch.tensor(weight_elasticnet).squeeze()\n\nfor row in weights_lasso.T:\n    axes[1].semilogx(alphas, row)\naxes[1].set_title(\"LASSO regression\")\naxes[1].set_xlabel(\"Alpha\")\naxes[1].set_ylabel(\"Weights\")\n\nfor row in weight_elasticnet.T:\n    axes[2].semilogx(alphas, row)\naxes[2].set_title(\"ElasticNet regression\")\naxes[2].set_xlabel(\"Alpha\")\naxes[2].set_ylabel(\"Weights\")\nplt.show()"
      ]
    }
  ],
  "metadata": {
    "kernelspec": {
      "display_name": "Python 3",
      "language": "python",
      "name": "python3"
    },
    "language_info": {
      "codemirror_mode": {
        "name": "ipython",
        "version": 3
      },
      "file_extension": ".py",
      "mimetype": "text/x-python",
      "name": "python",
      "nbconvert_exporter": "python",
      "pygments_lexer": "ipython3",
      "version": "3.11.9"
    }
  },
  "nbformat": 4,
  "nbformat_minor": 0
}