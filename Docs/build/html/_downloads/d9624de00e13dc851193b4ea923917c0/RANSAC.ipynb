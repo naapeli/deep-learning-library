{
  "cells": [
    {
      "cell_type": "markdown",
      "metadata": {},
      "source": [
        "\n# Robust Regression with RANSAC\n\nThis script demonstrates the use of RANSAC (Random Sample Consensus) regression to fit a robust model in the presence of outliers.\nA quadratic relationship is used to generate inlier data, while a separate set of points acts as outliers. The performance of standard\nlinear regression is compared with RANSAC regression to highlight the latter's robustness to noisy data.\n\n- Inliers follow the function: \\( y = 2x^2 + 1 +        ext{noise} \\)\n- Outliers are randomly distributed and do not follow the quadratic trend.\n- A polynomial feature transformation is applied to the input data to allow for quadratic regression.\n"
      ]
    },
    {
      "cell_type": "code",
      "execution_count": null,
      "metadata": {
        "collapsed": false
      },
      "outputs": [],
      "source": [
        "import torch\nimport matplotlib.pyplot as plt\n\nfrom DLL.MachineLearning.SupervisedLearning.LinearModels import LinearRegression, RANSACRegression\nfrom DLL.Data.Preprocessing import PolynomialFeatures\n\n\nnum_inliers = 100\nnum_outliers = 20\n\nx_inliers = torch.linspace(0, 10, num_inliers)\ny_inliers = 2 * x_inliers ** 2 + 1 + torch.randn(num_inliers)\nx_outliers = torch.rand(num_outliers) * 4 + 6\ny_outliers = torch.rand(num_outliers) * 20 + 10\nX = PolynomialFeatures(degree=2).transform(torch.cat((x_inliers, x_outliers)).unsqueeze(-1))\ny = torch.cat((y_inliers, y_outliers))\nindices = torch.randperm(len(X))\nX, y = X[indices], y[indices]\n\nlr = LinearRegression()\nlr.fit(X, y)\nransac = RANSACRegression(estimator=LinearRegression())\nransac.fit(X, y, min_samples=0.1)\n\nplt.plot(x_inliers, y_inliers, \".\", label=\"inliers\")\nplt.plot(x_outliers, y_outliers, \".\", label=\"outliers\")\nplt.plot(x_inliers, lr.predict(PolynomialFeatures(degree=2).transform(x_inliers.unsqueeze(-1))), label=\"Linear regression\")\nplt.plot(x_inliers, ransac.predict(PolynomialFeatures(degree=2).transform(x_inliers.unsqueeze(-1))), label=\"RANSAC regression\")\nplt.legend()\nplt.show()"
      ]
    }
  ],
  "metadata": {
    "kernelspec": {
      "display_name": "Python 3",
      "language": "python",
      "name": "python3"
    },
    "language_info": {
      "codemirror_mode": {
        "name": "ipython",
        "version": 3
      },
      "file_extension": ".py",
      "mimetype": "text/x-python",
      "name": "python",
      "nbconvert_exporter": "python",
      "pygments_lexer": "ipython3",
      "version": "3.11.9"
    }
  },
  "nbformat": 4,
  "nbformat_minor": 0
}