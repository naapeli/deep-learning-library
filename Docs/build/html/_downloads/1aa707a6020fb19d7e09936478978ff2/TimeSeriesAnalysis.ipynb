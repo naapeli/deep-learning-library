{
  "cells": [
    {
      "cell_type": "markdown",
      "metadata": {},
      "source": [
        "\n# Recurrent networks for time series analysis\n\nThis script implements a model to predict values of a simple sine function. It uses recurrent layers \nto handle the sequential nature of the sine function.\n"
      ]
    },
    {
      "cell_type": "code",
      "execution_count": null,
      "metadata": {
        "collapsed": false
      },
      "outputs": [],
      "source": [
        "import torch\nimport matplotlib.pyplot as plt\n\nfrom DLL.DeepLearning.Layers import RNN, LSTM\nfrom DLL.DeepLearning.Model import Model\nfrom DLL.DeepLearning.Layers.Activations import Tanh\nfrom DLL.DeepLearning.Optimisers import ADAM\nfrom DLL.DeepLearning.Losses import MSE\n\n\ndevice = torch.device(\"cuda\") if torch.cuda.is_available() else torch.device(\"cpu\")\n\nsize = 300\nsequence_length = 20\ndata = torch.sin(torch.arange(size, dtype=torch.float32))\nx = []\ny = []\nfor start in range(size - sequence_length):\n    x.append(data[start:start + sequence_length])\n    y.append(data[start + sequence_length])\nx = torch.stack(x).reshape(len(x), sequence_length, 1).to(device=device)\ny = torch.stack(y).reshape(len(y), 1).to(device=device)\nprint(x.shape, y.shape)\n\nmodel = Model((sequence_length, 1), device=device)\nmodel.add(RNN((1,), 10, activation=Tanh()))\nmodel.compile(optimiser=ADAM(), loss=MSE(), metrics=[\"loss\", \"val_loss\"])\nmodel.summary()\n\nmodel.fit(x, y, epochs=20, batch_size=1, verbose=True)\n\ndata = torch.sin(torch.arange(size, dtype=torch.float32, device=device))\nprediction = []\ny_true = []\nfor start in range(30):\n    prediction.append(model.predict(data[start:start + sequence_length].reshape(1, sequence_length, 1)))\n    y_true.append(data[start + sequence_length])\n\nplt.figure(figsize=(8, 8))\nplt.plot(torch.stack(y_true).cpu().numpy(), label=\"Sin(x)\")\nplt.plot(torch.stack(prediction).cpu().flatten().numpy(), label=\"Prediction\")\nplt.legend()\nplt.show()"
      ]
    }
  ],
  "metadata": {
    "kernelspec": {
      "display_name": "Python 3",
      "language": "python",
      "name": "python3"
    },
    "language_info": {
      "codemirror_mode": {
        "name": "ipython",
        "version": 3
      },
      "file_extension": ".py",
      "mimetype": "text/x-python",
      "name": "python",
      "nbconvert_exporter": "python",
      "pygments_lexer": "ipython3",
      "version": "3.11.9"
    }
  },
  "nbformat": 4,
  "nbformat_minor": 0
}