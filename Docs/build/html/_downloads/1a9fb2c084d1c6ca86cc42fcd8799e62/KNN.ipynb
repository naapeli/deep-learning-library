{
  "cells": [
    {
      "cell_type": "markdown",
      "metadata": {},
      "source": [
        "\n# K-Nearest Neighbors (KNN) Classification and Regression\n\nThis script demonstrates the use of K-Nearest Neighbors (KNN) for both classification and regression \ntasks using the `KNNClassifier` and `KNNRegressor` models. It also showcases model serialization \nwith `save_model`.\n"
      ]
    },
    {
      "cell_type": "code",
      "execution_count": null,
      "metadata": {
        "collapsed": false
      },
      "outputs": [],
      "source": [
        "import torch\nimport matplotlib.pyplot as plt\nfrom sklearn import datasets\n\nfrom DLL.Data.Metrics import accuracy\nfrom DLL.Data.Preprocessing import data_split\nfrom DLL.MachineLearning.SupervisedLearning.Neighbors import KNNClassifier, KNNRegressor\nfrom DLL.DeepLearning.Model import save_model, load_model\n\n\ntorch.manual_seed(0)\n\niris = datasets.load_iris()\nX = torch.tensor(iris.data, dtype=torch.float32)\ny = torch.tensor(iris.target, dtype=torch.float32)\n# X = X[y != 2]\n# y = y[y != 2]\nX_train, y_train, X_test, y_test, _, _ = data_split(X, y)\n\nmodel = KNNClassifier(k=50, metric=\"manhattan\")\nmodel.fit(X_train, y_train)\npredictions = model.predict(X_test)\nprint(model.predict_proba(X_test))\nprint(accuracy(predictions, y_test))\n# save_model(model, filepath=\"./Tests/Neighbours/classifier.pkl\")\n\n\nX = torch.linspace(0, 1, 100)\ny = X ** 2 + torch.randn_like(X) * 0.05\nX = X.unsqueeze(1)\nX_train, y_train, X_test, y_test, _, _ = data_split(X, y)\n\nmodel = KNNRegressor(k=5, metric=\"manhattan\", weight=\"gaussian\")\nmodel.fit(X_train, y_train)\npredictions = model.predict(X_test)\n# save_model(model, filepath=\"./Tests/Neighbours/regressor.pkl\")\n\nplt.scatter(X_test, predictions, label=\"predictions\")\nplt.scatter(X_test, y_test, label=\"true\")\nplt.scatter(X_train, y_train, label=\"train\")\nplt.legend()\nplt.show()"
      ]
    }
  ],
  "metadata": {
    "kernelspec": {
      "display_name": "Python 3",
      "language": "python",
      "name": "python3"
    },
    "language_info": {
      "codemirror_mode": {
        "name": "ipython",
        "version": 3
      },
      "file_extension": ".py",
      "mimetype": "text/x-python",
      "name": "python",
      "nbconvert_exporter": "python",
      "pygments_lexer": "ipython3",
      "version": "3.11.9"
    }
  },
  "nbformat": 4,
  "nbformat_minor": 0
}