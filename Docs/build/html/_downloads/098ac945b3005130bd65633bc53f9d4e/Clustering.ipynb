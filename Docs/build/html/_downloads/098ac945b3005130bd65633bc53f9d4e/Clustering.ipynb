{
  "cells": [
    {
      "cell_type": "markdown",
      "metadata": {},
      "source": [
        "\n# Comparison of clustering algorithms using silhouette scores\n\nThis script evaluates and visualizes various clustering algorithms on synthetic datasets. For each algorithm, \na silhouette plot is produced, which is used for comparison of the algorithms. If one wants to experiment with \ndifferently shaped datasets, one should run the script locally and experiment with changing the \"dataset\" parameter.\n"
      ]
    },
    {
      "cell_type": "code",
      "execution_count": null,
      "metadata": {
        "collapsed": false
      },
      "outputs": [],
      "source": [
        "import torch\nimport matplotlib.pyplot as plt\nimport matplotlib.cm as cm\nfrom sklearn.datasets import make_blobs, make_classification, make_moons\nimport numpy as np\n\nfrom DLL.MachineLearning.UnsupervisedLearning.Clustering import KMeansClustering, GaussianMixture, SpectralClustering, DBScan\nfrom DLL.MachineLearning.SupervisedLearning.Kernels import RBF\nfrom DLL.Data.Metrics import silhouette_score\n\nn_samples=1000\ndataset = \"basic\"\nif dataset == \"basic\": X, y = make_blobs(n_samples=n_samples, n_features=2, cluster_std=1, centers=3, random_state=3)\nif dataset == \"narrow\": X, y = make_classification(n_samples=n_samples, n_features=2, n_informative=2, n_redundant=0, n_clusters_per_class=1, n_classes=3, random_state=1)\nif dataset == \"moons\": X, y = make_moons(n_samples=n_samples, noise=0.05, random_state=0)\nX = torch.from_numpy(X)\ny = torch.from_numpy(y)\nfig, ax = plt.subplots(3, 2, figsize=(8, 12))\nplt.subplots_adjust(hspace=0.3, wspace=0.3)\nax = ax.ravel()\nax[0].scatter(X[:, 0], X[:, 1], c=y)\nax[0].set_title(\"True classes\")\n\nif dataset in [\"basic\", \"narrow\"]:\n    n_classes = 3\nelif dataset in [\"moons\"]:\n    n_classes = 2\n\nmodel = KMeansClustering(k=n_classes, init=\"kmeans++\", n_init=10, max_iters=100)\nmodel.fit(X)\nk_mean_labels = model.predict(X)\nax[1].scatter(X[:, 0], X[:, 1], c=k_mean_labels)\nax[1].scatter(model.centroids[:, 0], model.centroids[:, 1], c=\"red\")\nax[1].set_title(\"K means clustering\")\nk_means_silhouette_samples = silhouette_score(X, k_mean_labels, return_samples=True)\n\ntorch.manual_seed(1)\nmodel = GaussianMixture(k=n_classes, max_iters=100)\nmodel.fit(X, verbose=False)\ngaussian_mixture_labels = model.predict(X)\nax[2].scatter(X[:, 0], X[:, 1], c=gaussian_mixture_labels)\nax[2].scatter(model.mus[:, 0], model.mus[:, 1], c=\"red\")\nax[2].set_title(\"Gaussian mixture clustering\")\ngaussian_mixture_silhouette_Sampels = silhouette_score(X, gaussian_mixture_labels, return_samples=True)\n\nif dataset in [\"basic\"]:\n    correlation_length = 1\nelif dataset in [\"moons\", \"narrow\"]:\n    correlation_length = 0.1\nmodel = SpectralClustering(k=n_classes, kernel=RBF(correlation_length=correlation_length), use_kmeans=True)\nmodel.fit(X)\nspectral_labels = model.predict()\nax[3].scatter(X[:, 0], X[:, 1], c=spectral_labels)\nax[3].set_title(\"Spectral clustering\")\nspectral_silhouette_samples = silhouette_score(X, spectral_labels, return_samples=True)\n\nif dataset in [\"basic\"]:\n    eps = 0.9\nelif dataset in [\"narrow\"]:\n    eps = 0.5\nelif dataset in [\"moons\"]:\n    eps = 0.1\nmodel = DBScan(eps=eps, min_samples=5)\nmodel.fit(X)\ndbscan_labels = model.predict()\nax[4].scatter(X[:, 0], X[:, 1], c=dbscan_labels)\nax[4].set_title(\"Density based scanning\")\ndbscan_samples = silhouette_score(X[dbscan_labels != -1], dbscan_labels[dbscan_labels != -1], return_samples=True)\n\nfig, ax = plt.subplots(2, 2, figsize=(8, 8))\nplt.subplots_adjust(hspace=0.5, wspace=0.5)\nax = ax.ravel()\ny_lower_k_means = 10\ny_lower_gaussian_mixture = 10\ny_lower_spectral = 10\nfor i in range(n_classes):\n    ith_cluster_k_means_silhouette_values = k_means_silhouette_samples[k_mean_labels == i]\n    ith_cluster_gaussian_mixture_silhouette_values = gaussian_mixture_silhouette_Sampels[gaussian_mixture_labels == i]\n    ith_cluster_spectral_silhouette_values = spectral_silhouette_samples[spectral_labels == i]\n\n    ith_cluster_k_means_silhouette_values, _ = ith_cluster_k_means_silhouette_values.sort()\n    ith_cluster_gaussian_mixture_silhouette_values, _ = ith_cluster_gaussian_mixture_silhouette_values.sort()\n    ith_cluster_spectral_silhouette_values, _ = ith_cluster_spectral_silhouette_values.sort()\n\n    size_cluster_i = ith_cluster_k_means_silhouette_values.shape[0]\n    y_upper = y_lower_k_means + size_cluster_i\n    color = cm.nipy_spectral(float(i) / n_classes)\n    ax[0].fill_betweenx(np.arange(y_lower_k_means, y_upper), 0, ith_cluster_k_means_silhouette_values, facecolor=color, edgecolor=color, alpha=0.7,)\n    y_lower_k_means = y_upper + 10\n\n    size_cluster_i = ith_cluster_gaussian_mixture_silhouette_values.shape[0]\n    y_upper = y_lower_gaussian_mixture + size_cluster_i\n    color = cm.nipy_spectral(float(i) / n_classes)\n    ax[1].fill_betweenx(np.arange(y_lower_gaussian_mixture, y_upper), 0, ith_cluster_gaussian_mixture_silhouette_values, facecolor=color, edgecolor=color, alpha=0.7,)\n    y_lower_gaussian_mixture = y_upper + 10\n    \n    size_cluster_i = ith_cluster_spectral_silhouette_values.shape[0]\n    y_upper = y_lower_spectral + size_cluster_i\n    color = cm.nipy_spectral(float(i) / n_classes)\n    ax[2].fill_betweenx(np.arange(y_lower_spectral, y_upper), 0, ith_cluster_spectral_silhouette_values, facecolor=color, edgecolor=color, alpha=0.7,)\n    y_lower_spectral = y_upper + 10\n\ny_lower_dbscan = 10\nfor i in torch.unique(dbscan_labels):\n    if i == -1:\n        continue\n    ith_cluster_dbscan_silhouette_values = dbscan_samples[dbscan_labels[dbscan_labels != -1] == i]\n    ith_cluster_dbscan_silhouette_values, _ = ith_cluster_dbscan_silhouette_values.sort()\n    size_cluster_i = ith_cluster_dbscan_silhouette_values.shape[0]\n    y_upper = y_lower_dbscan + size_cluster_i\n    color = cm.nipy_spectral(float(i) / n_classes)\n    ax[3].fill_betweenx(np.arange(y_lower_dbscan, y_upper), 0, ith_cluster_dbscan_silhouette_values, facecolor=color, edgecolor=color, alpha=0.7,)\n    y_lower_dbscan = y_upper + 10\n\nax[0].axvline(x=silhouette_score(X, k_mean_labels), color=\"red\", linestyle=\"--\")\nax[1].axvline(x=silhouette_score(X, gaussian_mixture_labels), color=\"red\", linestyle=\"--\")\nax[2].axvline(x=silhouette_score(X, spectral_labels), color=\"red\", linestyle=\"--\")\nax[3].axvline(x=silhouette_score(X[dbscan_labels != -1], dbscan_labels[dbscan_labels != -1]), color=\"red\", linestyle=\"--\")\n\nax[0].set_xlabel(\"The silhouette coefficient values\")\nax[1].set_xlabel(\"The silhouette coefficient values\")\nax[2].set_xlabel(\"The silhouette coefficient values\")\nax[3].set_xlabel(\"The silhouette coefficient values\")\n\nax[0].set_ylabel(\"Clusters\")\nax[1].set_ylabel(\"Clusters\")\nax[2].set_ylabel(\"Clusters\")\nax[3].set_ylabel(\"Clusters\")\n\nax[0].set_title(f\"K-means - {round(silhouette_score(X, k_mean_labels), 3)}\")\nax[1].set_title(f\"Gaussian mixture - {round(silhouette_score(X, gaussian_mixture_labels), 3)}\")\nax[2].set_title(f\"Spectral - {round(silhouette_score(X, spectral_labels), 3)}\")\nax[3].set_title(f\"DB scan - {round(silhouette_score(X[dbscan_labels != -1], dbscan_labels[dbscan_labels != -1]), 3)}\")\nplt.show()"
      ]
    }
  ],
  "metadata": {
    "kernelspec": {
      "display_name": "Python 3",
      "language": "python",
      "name": "python3"
    },
    "language_info": {
      "codemirror_mode": {
        "name": "ipython",
        "version": 3
      },
      "file_extension": ".py",
      "mimetype": "text/x-python",
      "name": "python",
      "nbconvert_exporter": "python",
      "pygments_lexer": "ipython3",
      "version": "3.11.9"
    }
  },
  "nbformat": 4,
  "nbformat_minor": 0
}