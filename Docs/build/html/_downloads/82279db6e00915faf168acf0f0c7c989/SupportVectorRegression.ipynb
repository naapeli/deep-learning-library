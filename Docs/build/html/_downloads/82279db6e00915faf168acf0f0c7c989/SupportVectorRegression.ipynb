{
  "cells": [
    {
      "cell_type": "markdown",
      "metadata": {},
      "source": [
        "\n# Support Vector Regression for 3D Surface Fitting\n\nThis script demonstrates the use of Support Vector Regression (SVR) to model and predict a synthetic 3D surface. The objective is to train the model to approximate the surface defined by the equation:\n\n    Z = 2 * X^2 - 5 * Y^2 + noise\n\nThe script performs the following steps:\n\n1. Generates a synthetic 3D dataset with two input features (X, Y) and one output (Z).\n2. Splits the dataset into training and test sets.\n3. Trains an SVR model with a linear kernel (product of two linear kernels) and compares its predictions against a Scikit-learn SVR model with a radial basis function (RBF) kernel.\n4. Visualizes the true values and the predictions from both models in a 3D scatter plot.\n\nThe comparison allows an evaluation of the model's performance in approximating the underlying surface.\n"
      ]
    },
    {
      "cell_type": "code",
      "execution_count": null,
      "metadata": {
        "collapsed": false
      },
      "outputs": [],
      "source": [
        "import torch\nimport matplotlib.pyplot as plt\nfrom sklearn import svm\n\nfrom DLL.MachineLearning.SupervisedLearning.SupportVectorMachines import SVR\nfrom DLL.Data.Preprocessing import data_split\nfrom DLL.MachineLearning.SupervisedLearning.Kernels import Linear\n\n\ntorch.manual_seed(10)\n\nx = torch.linspace(-2, 2, 20)\ny = torch.linspace(-2, 2, 20)\nXX, YY = torch.meshgrid(x, y, indexing=\"xy\")\nX = XX.flatten()\nY = YY.flatten()\nX_input = torch.stack((X, Y), dim=1)\nZ = 2 * X ** 2 - 5 * Y ** 2 + torch.normal(0, 1, size=X.size())\nx_train, y_train, x_test, y_test, _, _ = data_split(X_input, Z, train_split=0.8, validation_split=0.2)\n\nmodel = SVR(kernel=Linear() ** 2)\n# model = SVR()\nmodel.fit(x_train, y_train)\ny_pred = model.predict(x_test)\n\ncorrect = svm.SVR(kernel=\"rbf\", C=1)\ncorrect.fit(x_train, y_train)\ny_pred_true = correct.predict(x_test)\n\nfig = plt.figure()\nax = fig.add_subplot(111, projection='3d')\nax.scatter(x_test[:, 0].numpy(), x_test[:, 1].numpy(), y_test.numpy(), label=\"True\")\nax.scatter(x_test[:, 0].numpy(), x_test[:, 1].numpy(), y_pred.numpy(), label=\"Prediction\")\nax.scatter(x_test[:, 0].numpy(), x_test[:, 1].numpy(), y_pred_true, label=\"sklearn\")\nax.legend()\nplt.show()"
      ]
    }
  ],
  "metadata": {
    "kernelspec": {
      "display_name": "Python 3",
      "language": "python",
      "name": "python3"
    },
    "language_info": {
      "codemirror_mode": {
        "name": "ipython",
        "version": 3
      },
      "file_extension": ".py",
      "mimetype": "text/x-python",
      "name": "python",
      "nbconvert_exporter": "python",
      "pygments_lexer": "ipython3",
      "version": "3.11.9"
    }
  },
  "nbformat": 4,
  "nbformat_minor": 0
}