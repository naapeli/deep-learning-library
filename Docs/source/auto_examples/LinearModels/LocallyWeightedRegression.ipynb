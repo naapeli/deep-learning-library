{
  "cells": [
    {
      "cell_type": "markdown",
      "metadata": {},
      "source": [
        "\n# Locally Weighted Regression on a Sine Function\n\nThis script demonstrates Locally Weighted Regression (LWR), using a Gaussian kernel \nto assign weights to training samples based on their distance from a test \npoint.\n"
      ]
    },
    {
      "cell_type": "code",
      "execution_count": null,
      "metadata": {
        "collapsed": false
      },
      "outputs": [],
      "source": [
        "import torch\nimport matplotlib.pyplot as plt\n\nfrom DLL.MachineLearning.SupervisedLearning.LinearModels import LinearRegression\nfrom DLL.Data.Metrics import r2_score\nfrom DLL.Data.Preprocessing import data_split\n\n\nX = torch.linspace(0, 2 * torch.pi, 1000).unsqueeze(1)\ny = torch.sin(X).squeeze() + 0.2 * torch.randn_like(X.squeeze())\nX_train, y_train, X_test, y_test, _, _ = data_split(X, y)\n\ndef get_weight(train, test, tau):\n    d2 = torch.sum((train - test) ** 2, dim=1)\n    w = torch.exp(-d2 / (2. * tau * tau))\n    return w\n\ndef get_pred(tau):\n    y_pred = []\n    for test_point in X_test:\n        weight = get_weight(X_train, test_point, tau)\n        model = LinearRegression()\n        model.fit(X_train, y_train, sample_weight=weight)\n        y_pred.append(model.predict(test_point.reshape(1, -1))[0])\n\n    y_pred = torch.stack(y_pred).reshape(-1,)\n    return y_pred\n\nn = 4\nm = 4\nfig, axes = plt.subplots(m, n, figsize=(15, 10))\nplt.subplots_adjust(hspace=0.5)\naxes = axes.ravel()\ntaus = torch.logspace(torch.log(torch.Tensor([0.5]).squeeze()), torch.log(torch.Tensor([2.0]).squeeze()), m * n)\nfor i, ax in enumerate(axes):\n    y_pred = get_pred(taus[i])\n    ax.set_title(f\"Tau = {round(taus[i].item(), 3)} - R2 = {round(r2_score(y_test, y_pred), 3)}\")\n    ax.scatter(X_test, y_pred, s=10, c=\"r\", label=\"prediction\")\n    ax.scatter(X_test, y_test, s=10, c=\"b\", label=\"true\")\n    ax.grid()\nplt.show()"
      ]
    }
  ],
  "metadata": {
    "kernelspec": {
      "display_name": "Python 3",
      "language": "python",
      "name": "python3"
    },
    "language_info": {
      "codemirror_mode": {
        "name": "ipython",
        "version": 3
      },
      "file_extension": ".py",
      "mimetype": "text/x-python",
      "name": "python",
      "nbconvert_exporter": "python",
      "pygments_lexer": "ipython3",
      "version": "3.11.9"
    }
  },
  "nbformat": 4,
  "nbformat_minor": 0
}