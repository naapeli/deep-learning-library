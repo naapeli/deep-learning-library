{
  "cells": [
    {
      "cell_type": "markdown",
      "metadata": {},
      "source": [
        "\n# Polynomial Surface Regression with Total Least Squares\n\nThis script demonstrates polynomial regression on a 2D dataset using total least squares (TLS).\nIt generates a grid of input points, applies polynomial feature expansion, and fits a linear regression model.\nPredictions are visualized in 3D, comparing model output (blue) against actual values (red).\n"
      ]
    },
    {
      "cell_type": "code",
      "execution_count": null,
      "metadata": {
        "collapsed": false
      },
      "outputs": [],
      "source": [
        "import torch\nimport matplotlib.pyplot as plt\n\nfrom DLL.MachineLearning.SupervisedLearning.LinearModels import LinearRegression\nfrom DLL.Data.Preprocessing import PolynomialFeatures, data_split\n\n\nmodel = LinearRegression()\n\nn = 30\nX, Y = torch.meshgrid(torch.linspace(-1, 1, n, dtype=torch.float32), torch.linspace(-1, 1, n, dtype=torch.float32), indexing=\"xy\")\nx = torch.stack((X.flatten(), Y.flatten()), dim=1)\ny = X.flatten() ** 2 + Y.flatten() ** 2 + 0.1 * torch.randn(size=Y.flatten().size()) - 5\nx_train, y_train, x_val, y_val, x_test, y_test = data_split(x, y, train_split=0.6, validation_split=0.2)\nfeatures = PolynomialFeatures(degree=2, include_bias=True)  # Both polynomial features and linear regression must not include a bias\nx_train = features.transform(x_train)\n\nmodel.fit(x_train, y_train, method=\"tls\", include_bias=False)  # Both polynomial features and linear regression must not include a bias\nz = model.predict(features.transform(x_test))\nfig = plt.figure()\nax = fig.add_subplot(111, projection='3d')\nsurf = ax.scatter(x_test[:, 0], x_test[:, 1], z, color=\"blue\")\nsurf = ax.scatter(x_test[:, 0], x_test[:, 1], y_test, color=\"red\")\nplt.show()"
      ]
    }
  ],
  "metadata": {
    "kernelspec": {
      "display_name": "Python 3",
      "language": "python",
      "name": "python3"
    },
    "language_info": {
      "codemirror_mode": {
        "name": "ipython",
        "version": 3
      },
      "file_extension": ".py",
      "mimetype": "text/x-python",
      "name": "python",
      "nbconvert_exporter": "python",
      "pygments_lexer": "ipython3",
      "version": "3.11.9"
    }
  },
  "nbformat": 4,
  "nbformat_minor": 0
}