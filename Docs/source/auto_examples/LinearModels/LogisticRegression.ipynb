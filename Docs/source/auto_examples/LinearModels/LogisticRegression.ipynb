{
  "cells": [
    {
      "cell_type": "markdown",
      "metadata": {},
      "source": [
        "\n# Logistic Regression on the Iris Dataset\n\nThis script trains a logistic regression model on the Iris dataset using \ngradient descent. It supports both binary and multi-class classification.\n"
      ]
    },
    {
      "cell_type": "code",
      "execution_count": null,
      "metadata": {
        "collapsed": false
      },
      "outputs": [],
      "source": [
        "import torch\nfrom sklearn import datasets\nimport matplotlib.pyplot as plt\n\nfrom DLL.MachineLearning.SupervisedLearning.LinearModels import LogisticRegression\nfrom DLL.Data.Preprocessing import MinMaxScaler, CategoricalEncoder, data_split\nfrom DLL.Data.Metrics import accuracy\n\n\niris = datasets.load_iris()\n\nbinary = False\nif binary:\n    x = torch.tensor(iris.data[iris.target != 2], dtype=torch.float32)\n    y = torch.tensor(iris.target[iris.target != 2], dtype=torch.float32)\nelse:\n    x = torch.tensor(iris.data, dtype=torch.float32)\n    y = torch.tensor(iris.target, dtype=torch.float32)\nscaler = MinMaxScaler()\nencoder = CategoricalEncoder()\nx = scaler.fit_transform(x)\ny = encoder.fit_encode(y)\nx_train, y_train, _, _, x_test, y_test = data_split(x, y, train_split=0.7, validation_split=0.0)\n\nmodel = LogisticRegression(learning_rate=0.001)\nhistory = model.fit(x_train, y_train, epochs=5000, metrics=[\"loss\", \"accuracy\"], callback_frequency=100, verbose=True)\ny_pred = model.predict(x_test)\nprint(y_pred, model.predict_proba(x_test))\nprint(y_pred, y_test)\nprint(accuracy(y_pred, y_test))\n\nplt.plot(history[\"accuracy\"])\nplt.xlabel(\"epoch / 100\")\nplt.ylabel(\"accuracy\")\n\nplt.figure()\nplt.semilogy(history[\"loss\"])\nplt.xlabel(\"epoch / 100\")\nplt.ylabel(\"loss\")\nplt.show()"
      ]
    }
  ],
  "metadata": {
    "kernelspec": {
      "display_name": "Python 3",
      "language": "python",
      "name": "python3"
    },
    "language_info": {
      "codemirror_mode": {
        "name": "ipython",
        "version": 3
      },
      "file_extension": ".py",
      "mimetype": "text/x-python",
      "name": "python",
      "nbconvert_exporter": "python",
      "pygments_lexer": "ipython3",
      "version": "3.11.9"
    }
  },
  "nbformat": 4,
  "nbformat_minor": 0
}