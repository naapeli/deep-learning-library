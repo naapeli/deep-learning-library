{
  "cells": [
    {
      "cell_type": "markdown",
      "metadata": {},
      "source": [
        "\n# Multidimensional Gaussian Process Regression (GPR)\n\nThis script demonstrates the use of a Gaussian Process Regressor (GPR) with a \nRadial Basis Function (RBF) kernel in a multidimensional setting. The example \ninvolves training a GPR model on 2D input data and predicting the outputs on \na test set.\n"
      ]
    },
    {
      "cell_type": "code",
      "execution_count": null,
      "metadata": {
        "collapsed": false
      },
      "outputs": [],
      "source": [
        "import torch\nimport matplotlib.pyplot as plt\n\nfrom DLL.MachineLearning.SupervisedLearning.GaussianProcesses import GaussianProcessRegressor\nfrom DLL.MachineLearning.SupervisedLearning.Kernels import RBF\nfrom DLL.Data.Preprocessing import data_split, StandardScaler\n\n\nn = 30\nX, Y = torch.meshgrid(torch.linspace(-1, 1, n, dtype=torch.float32), torch.linspace(-1, 1, n, dtype=torch.float32), indexing=\"xy\")\nx = torch.stack((X.flatten(), Y.flatten()), dim=1)\ny = X.flatten() ** 2 + Y.flatten() ** 2 + 0.1 * torch.randn(size=Y.flatten().size()) - 5\ntransformer = StandardScaler()\ny = transformer.fit_transform(y)\nx_train, y_train, _, _, x_test, y_test = data_split(x, y, train_split=0.8, validation_split=0.0)\n\n\nmodel = GaussianProcessRegressor(RBF(correlation_length=torch.Tensor([1, 1])))\nmodel.fit(x_train, y_train)\nmodel.train_kernel(epochs=10, verbose=True)\nmean, covariance = model.predict(x_test)\nz = transformer.inverse_transform(mean)\n\nfig = plt.figure()\nax = fig.add_subplot(111, projection='3d')\nsurf = ax.scatter(x_test[:, 0], x_test[:, 1], z, color=\"blue\", label=\"prediction\")\nsurf = ax.scatter(x_test[:, 0], x_test[:, 1], transformer.inverse_transform(y_test), color=\"red\", label=\"true value\")\nax.legend()\nplt.show()"
      ]
    }
  ],
  "metadata": {
    "kernelspec": {
      "display_name": "Python 3",
      "language": "python",
      "name": "python3"
    },
    "language_info": {
      "codemirror_mode": {
        "name": "ipython",
        "version": 3
      },
      "file_extension": ".py",
      "mimetype": "text/x-python",
      "name": "python",
      "nbconvert_exporter": "python",
      "pygments_lexer": "ipython3",
      "version": "3.11.9"
    }
  },
  "nbformat": 4,
  "nbformat_minor": 0
}