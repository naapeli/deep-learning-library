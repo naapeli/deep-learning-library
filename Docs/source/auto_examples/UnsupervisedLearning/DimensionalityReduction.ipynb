{
  "cells": [
    {
      "cell_type": "markdown",
      "metadata": {},
      "source": [
        "\n# Comparison of dimensionality reduction algorithms\n\nThis script evaluates and visualizes various dimensionality reduction algorithms on the iris dataset. \nFor each algorithm, a visualization of the latent space, which is used for comparison of the algorithms.\n"
      ]
    },
    {
      "cell_type": "code",
      "execution_count": null,
      "metadata": {
        "collapsed": false
      },
      "outputs": [],
      "source": [
        "import torch\nimport matplotlib.pyplot as plt\nfrom sklearn import datasets\n\nfrom DLL.MachineLearning.UnsupervisedLearning.DimensionalityReduction import PCA, LDA, RobustPCA, TSNE, UMAP\n\n\n# import tensorflow as tf\n# (images, labels), (_, _) = tf.keras.datasets.mnist.load_data()\n# X = torch.from_numpy(images).to(dtype=torch.float64).reshape(60000, -1)\n# y = torch.from_numpy(labels).to(dtype=torch.int32)\niris = datasets.load_iris()\nX = torch.tensor(iris.data, dtype=torch.float32)\ny = torch.tensor(iris.target, dtype=torch.float32)\n# breast_cancer = datasets.load_breast_cancer()\n# X = torch.tensor(breast_cancer.data, dtype=torch.float32)\n# y = torch.tensor(breast_cancer.target, dtype=torch.float32)\n\ntransformer_pca = PCA(n_components=2)\nreduced_pca = transformer_pca.fit_transform(X, normalize=False)\n\ntransformer_UMAP1 = UMAP(n_components=2, init=\"spectral\", p=1, n_neighbor=30, min_dist=0.1, learning_rate=1)\nreduced_UMAP1 = transformer_UMAP1.fit_transform(X, epochs=300)\n\ntransformer_lda = LDA(n_components=2)\nreduced_lda = transformer_lda.fit_transform(X, y)\n\ntransformer_robustPCA = RobustPCA(n_components=2)\nreduced_robustPCA = transformer_robustPCA.fit_transform(X, epochs=10)\n\ntransformer_TSNE = TSNE(n_components=2, init=\"random\", p=2, early_exaggeration=1, perplexity=10)\nreduced_TSNE = transformer_TSNE.fit_transform(X, epochs=50)\n\ntransformer_UMAP2 = UMAP(n_components=2, init=\"spectral\", p=1, n_neighbor=30, min_dist=2, learning_rate=1)\nreduced_UMAP2 = transformer_UMAP2.fit_transform(X, epochs=300)\n\nfig, axes = plt.subplots(3, 2, figsize=(8, 12))\nplt.subplots_adjust(hspace=0.3, wspace=0.3)\naxes = axes.ravel()\naxes[0].scatter(reduced_pca[:, 0], reduced_pca[:, 1], c=y, s=5)\naxes[0].set_title(\"PCA\")\naxes[2].scatter(reduced_lda[:, 0], reduced_lda[:, 1], c=y, s=5)\naxes[2].set_title(\"LDA\")\naxes[4].scatter(reduced_UMAP1[:, 0], reduced_UMAP1[:, 1], c=y, s=5)\naxes[4].set_title(\"UMAP | min_dist=0.1\")\naxes[1].scatter(reduced_robustPCA[:, 0], reduced_robustPCA[:, 1], c=y, s=5)\naxes[1].set_title(\"Robust PCA\")\naxes[3].scatter(reduced_TSNE[:, 0], reduced_TSNE[:, 1], c=y, s=5)\naxes[3].set_title(\"T-SNE\")\naxes[5].scatter(reduced_UMAP2[:, 0], reduced_UMAP2[:, 1], c=y, s=5)\naxes[5].set_title(\"UMAP | min_dist=2\")\n\nplt.figure(figsize=(8, 8))\nplt.semilogy(transformer_TSNE.history, label=\"T-SNE (KL Divergence)\")\nplt.semilogy(transformer_UMAP2.history, label=\"UMAP (Cross entropy)\")\nplt.xlabel(\"Epoch\")\nplt.ylabel(\"loss\")\nplt.legend()\nplt.show()"
      ]
    }
  ],
  "metadata": {
    "kernelspec": {
      "display_name": "Python 3",
      "language": "python",
      "name": "python3"
    },
    "language_info": {
      "codemirror_mode": {
        "name": "ipython",
        "version": 3
      },
      "file_extension": ".py",
      "mimetype": "text/x-python",
      "name": "python",
      "nbconvert_exporter": "python",
      "pygments_lexer": "ipython3",
      "version": "3.11.9"
    }
  },
  "nbformat": 4,
  "nbformat_minor": 0
}