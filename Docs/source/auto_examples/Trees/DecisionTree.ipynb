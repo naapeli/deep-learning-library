{
  "cells": [
    {
      "cell_type": "markdown",
      "metadata": {},
      "source": [
        "\n# Decision tree and random forest classifiers\n\nThis script evaluates the performance of decision tree and random forest classifiers \non the Breast Cancer dataset using both DLL (`DLL.MachineLearning.SupervisedLearning.Trees`) \nand scikit-learn.\n"
      ]
    },
    {
      "cell_type": "code",
      "execution_count": null,
      "metadata": {
        "collapsed": false
      },
      "outputs": [],
      "source": [
        "import torch\nfrom sklearn import datasets\nfrom sklearn import tree\nfrom sklearn import ensemble\nimport time\n\nfrom DLL.Data.Metrics import accuracy\nfrom DLL.Data.Preprocessing import data_split\nfrom DLL.MachineLearning.SupervisedLearning.Trees import DecisionTree, RandomForestClassifier\n\n\nbreast_cancer = datasets.load_breast_cancer()\n\nx = torch.tensor(breast_cancer.data, dtype=torch.float32)\ny = torch.tensor(breast_cancer.target, dtype=torch.float32)\nx_train, y_train, _, _, x_test, y_test = data_split(x, y, train_split=0.8, validation_split=0.0)\n\nstart = time.perf_counter()\nmodel = DecisionTree(max_depth=1, ccp_alpha=0.0)\nmodel.fit(x_train, y_train)\npredictions = model.predict(x_test)\nprobas = model.predict_proba(x_test)\nprint(f\"DLL decision tree accuracy: {accuracy(predictions, y_test)}\")\nprint(f\"DLL decision tree execution time: {time.perf_counter() - start}\")\n\nstart = time.perf_counter()\nmodel = tree.DecisionTreeClassifier(max_depth=1, criterion='entropy')\nmodel.fit(x_train.numpy(), y_train.numpy())\npredictions = model.predict(x_test)\nprint(f\"SKlearn decision tree accuracy: {accuracy(torch.tensor(predictions), y_test)}\")\nprint(f\"SKlearn decision tree execution time: {time.perf_counter() - start}\")\n\nstart = time.perf_counter()\nmodel = RandomForestClassifier(n_trees=10, max_depth=1)\nmodel.fit(x_train, y_train)\npredictions = model.predict(x_test)\nprobas = model.predict_proba(x_test)\nprint(f\"DLL random forest accuracy: {accuracy(predictions, y_test)}\")\nprint(f\"DLL random forest execution time: {time.perf_counter() - start}\")\n\nstart = time.perf_counter()\nmodel = ensemble.RandomForestClassifier(n_estimators=10, max_depth=1, criterion='entropy')\nmodel.fit(x_train.numpy(), y_train.numpy())\npredictions = model.predict(x_test)\nprint(f\"SKlearn random forest accuracy: {accuracy(torch.tensor(predictions), y_test)}\")\nprint(f\"SKlearn random forest execution time: {time.perf_counter() - start}\")"
      ]
    }
  ],
  "metadata": {
    "kernelspec": {
      "display_name": "Python 3",
      "language": "python",
      "name": "python3"
    },
    "language_info": {
      "codemirror_mode": {
        "name": "ipython",
        "version": 3
      },
      "file_extension": ".py",
      "mimetype": "text/x-python",
      "name": "python",
      "nbconvert_exporter": "python",
      "pygments_lexer": "ipython3",
      "version": "3.11.9"
    }
  },
  "nbformat": 4,
  "nbformat_minor": 0
}