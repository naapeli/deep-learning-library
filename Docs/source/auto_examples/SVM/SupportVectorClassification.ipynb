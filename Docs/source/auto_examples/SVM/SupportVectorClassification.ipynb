{
  "cells": [
    {
      "cell_type": "markdown",
      "metadata": {},
      "source": [
        "\n# Support Vector Classifier Solver Comparison\n\nThis script compares the performance of different Support Vector Machine (SVM) solvers on a synthetic 2D classification dataset. The solvers compared include:\n\n1. **CVXOPT Solver**: Custom SVM optimization using the CVXOPT library.\n2. **SMO Solver**: Custom implementation of the Sequential Minimal Optimization (SMO) algorithm.\n3. **Coordinate Ascent Solver**: Custom implementation of the coordinate ascent optimization method for SVM.\n4. **Scikit-learn SVM**: Standard implementation from the Scikit-learn library.\n\nThe performance is evaluated based on prediction accuracy and training time. Visualizations of decision boundaries learned by each solver on the test set are provided for comparison.\n"
      ]
    },
    {
      "cell_type": "code",
      "execution_count": null,
      "metadata": {
        "collapsed": false
      },
      "outputs": [],
      "source": [
        "import torch\nimport matplotlib.pyplot as plt\nfrom sklearn import datasets\nfrom time import perf_counter\nfrom sklearn import svm\n\nfrom DLL.MachineLearning.SupervisedLearning.SupportVectorMachines import SVC\nfrom DLL.MachineLearning.SupervisedLearning import Kernels\nfrom DLL.Data.Preprocessing import data_split\nfrom DLL.Data.Metrics import accuracy\n\n\nX, y = datasets.make_blobs(n_samples=1000, n_features=2, cluster_std=2, centers=4, random_state=3)\n\n# plt.scatter(X[:, 0], X[:, 1], c=y, s=5)\n# plt.show()\n\nX = torch.from_numpy(X)\ny = torch.from_numpy(y)\nX_train, y_train, X_test, y_test, _, _ = data_split(X, y)\n\nmodel1 = SVC(kernel=Kernels.RBF(correlation_length=5), C=1, opt_method=\"cvxopt\")\nstart1 = perf_counter()\nmodel1.fit(X_train, y_train, epochs=2, multi_method=\"ovr\")\nend1 = perf_counter()\npredictions = model1.predict(X_test)\nprint(round(accuracy(predictions, y_test), 3))\n\nn = 100\nx_min, X_max = X[:, 0].min(), X[:, 0].max()\ny_min, y_max = X[:, 1].min(), X[:, 1].max()\nx_grid = torch.linspace(x_min, X_max, n)\ny_grid = torch.linspace(y_min, y_max, n)\nXv, Yv = torch.meshgrid(x_grid, y_grid, indexing=\"ij\")\n\nX_grid = torch.stack((Xv.flatten(), Yv.flatten()), dim=1).to(X.dtype)\ngrid_predictions = model1.predict(X_grid).reshape((n, n))\n\nmodel2 = SVC(kernel=Kernels.RBF(correlation_length=5), C=1, opt_method=\"smo\")\nstart2 = perf_counter()\nmodel2.fit(X_train, y_train, epochs=5, multi_method=\"ovr\")\nend2 = perf_counter()\npredictions = model2.predict(X_test)\nprint(round(accuracy(predictions, y_test), 3))\n\nx_min, X_max = X[:, 0].min(), X[:, 0].max()\ny_min, y_max = X[:, 1].min(), X[:, 1].max()\nx_grid = torch.linspace(x_min, X_max, n)\ny_grid = torch.linspace(y_min, y_max, n)\nXv, Yv = torch.meshgrid(x_grid, y_grid, indexing=\"ij\")\n\nX_grid = torch.stack((Xv.flatten(), Yv.flatten()), dim=1).to(X.dtype)\ngrid_predictions2 = model2.predict(X_grid).reshape((n, n))\n\nmodel3 = SVC(kernel=Kernels.RBF(correlation_length=5), C=1, opt_method=\"coord_ascent\")\nstart3 = perf_counter()\nmodel3.fit(X_train, y_train, epochs=5, multi_method=\"ovr\")\nend3 = perf_counter()\npredictions = model3.predict(X_test)\nprint(round(accuracy(predictions, y_test), 3))\n\nx_min, X_max = X[:, 0].min(), X[:, 0].max()\ny_min, y_max = X[:, 1].min(), X[:, 1].max()\nx_grid = torch.linspace(x_min, X_max, n)\ny_grid = torch.linspace(y_min, y_max, n)\nXv, Yv = torch.meshgrid(x_grid, y_grid, indexing=\"ij\")\n\nX_grid = torch.stack((Xv.flatten(), Yv.flatten()), dim=1).to(X.dtype)\ngrid_predictions3 = model3.predict(X_grid).reshape((n, n))\n\nmodel4 = svm.SVC(kernel=\"rbf\", C=1, gamma=1/(2 * 5 ** 2), decision_function_shape='ovr')\nstart4 = perf_counter()\nmodel4.fit(X_train, y_train)\nend4 = perf_counter()\npredictions = model4.predict(X_test)\nprint(round(accuracy(torch.from_numpy(predictions), y_test), 3))\n\nx_min, X_max = X[:, 0].min(), X[:, 0].max()\ny_min, y_max = X[:, 1].min(), X[:, 1].max()\nx_grid = torch.linspace(x_min, X_max, n)\ny_grid = torch.linspace(y_min, y_max, n)\nXv, Yv = torch.meshgrid(x_grid, y_grid, indexing=\"ij\")\n\nX_grid = torch.stack((Xv.flatten(), Yv.flatten()), dim=1).to(X.dtype)\ngrid_predictions4 = model4.predict(X_grid).reshape((n, n))\n\nfig, axes = plt.subplots(2, 2, figsize=(10, 10))\naxes[0, 0].contourf(Xv.numpy(), Yv.numpy(), grid_predictions.numpy(), alpha=0.5)\naxes[1, 0].contourf(Xv.numpy(), Yv.numpy(), grid_predictions2.numpy(), alpha=0.5)\naxes[0, 1].contourf(Xv.numpy(), Yv.numpy(), grid_predictions3.numpy(), alpha=0.5)\naxes[1, 1].contourf(Xv.numpy(), Yv.numpy(), grid_predictions4, alpha=0.5)\naxes[0, 0].scatter(X_test[:, 0], X_test[:, 1], c=y_test, s=5)\naxes[0, 1].scatter(X_test[:, 0], X_test[:, 1], c=y_test, s=5)\naxes[1, 0].scatter(X_test[:, 0], X_test[:, 1], c=y_test, s=5)\naxes[1, 1].scatter(X_test[:, 0], X_test[:, 1], c=y_test, s=5)\naxes[0, 0].set_title(f\"cvxopt solver - time to train: {round(end1 - start1, 3)}\")\naxes[1, 0].set_title(f\"My SMO solver - time to train: {round(end2 - start2, 3)}\")\naxes[0, 1].set_title(f\"My coordinate ascent solver - time to train: {round(end3 - start3, 3)}\")\naxes[1, 1].set_title(f\"SKlearn implementation - time to train: {round(end4 - start4, 3)}\")\nplt.show()"
      ]
    }
  ],
  "metadata": {
    "kernelspec": {
      "display_name": "Python 3",
      "language": "python",
      "name": "python3"
    },
    "language_info": {
      "codemirror_mode": {
        "name": "ipython",
        "version": 3
      },
      "file_extension": ".py",
      "mimetype": "text/x-python",
      "name": "python",
      "nbconvert_exporter": "python",
      "pygments_lexer": "ipython3",
      "version": "3.11.9"
    }
  },
  "nbformat": 4,
  "nbformat_minor": 0
}