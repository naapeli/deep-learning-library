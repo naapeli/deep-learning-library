{
  "cells": [
    {
      "cell_type": "markdown",
      "metadata": {},
      "source": [
        "\n# Logistic Regression on Synthetic Data with ROC Curve and AUC\n\nThis script demonstrates the use of ROC Curve for binary classification on synthetic data. \nThe dataset is generated using `make_blobs` from scikit-learn to create a 2D feature space with two \ncenters. The script then splits the dataset into training and test sets, trains a logistic regression \nmodel, and evaluates its performance using metrics such as accuracy, ROC curve, and AUC (Area Under the \nCurve).\n"
      ]
    },
    {
      "cell_type": "code",
      "execution_count": null,
      "metadata": {
        "collapsed": false
      },
      "outputs": [],
      "source": [
        "import torch\nfrom sklearn import datasets\nfrom sklearn.metrics import auc as sk_auc\nimport matplotlib.pyplot as plt\nimport numpy as np\n\nfrom DLL.MachineLearning.SupervisedLearning.LinearModels import LogisticRegression\nfrom DLL.Data.Preprocessing import data_split\nfrom DLL.Data.Metrics import accuracy, roc_curve, auc\n\n\nnp.random.seed(0)\nX, y = datasets.make_blobs(n_features=2, n_samples=1000, centers=2)\nplt.scatter(X[:, 0], X[:, 1], c=y)\n\nx_train, y_train, _, _, x_test, y_test = data_split(torch.from_numpy(X).to(dtype=torch.float32), torch.from_numpy(y), train_split=0.7, validation_split=0.0)\n\nmodel = LogisticRegression(learning_rate=0.001)\nmodel.fit(x_train, y_train, epochs=2000, metrics=[\"loss\", \"accuracy\"], callback_frequency=10, verbose=True)\ny_pred = model.predict_proba(x_test)\nprint(y_pred[:10], y_test[:10])\nprint(accuracy(y_pred, y_test))\n\nthresholds = torch.linspace(0, 1, 100)\nfpr, tpr = roc_curve(y_pred, y_test, thresholds)\nplt.figure()\nplt.title(f\"ROC curve with auc = {auc(fpr, tpr)}\")\nprint(sk_auc(fpr, tpr))\nplt.plot([0, 1], [0, 1])\nplt.plot(fpr, tpr)\nplt.xlabel(\"False positive rate\")\nplt.ylabel(\"True positive rate\")\nplt.show()"
      ]
    }
  ],
  "metadata": {
    "kernelspec": {
      "display_name": "Python 3",
      "language": "python",
      "name": "python3"
    },
    "language_info": {
      "codemirror_mode": {
        "name": "ipython",
        "version": 3
      },
      "file_extension": ".py",
      "mimetype": "text/x-python",
      "name": "python",
      "nbconvert_exporter": "python",
      "pygments_lexer": "ipython3",
      "version": "3.11.9"
    }
  },
  "nbformat": 4,
  "nbformat_minor": 0
}